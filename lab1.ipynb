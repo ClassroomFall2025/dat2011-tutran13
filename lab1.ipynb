{
 "cells": [
  {
   "cell_type": "markdown",
   "id": "fdeff819",
   "metadata": {},
   "source": [
    "# Sinh Viên thực hiện Lab 1 ở Đây"
   ]
  },
  {
   "cell_type": "markdown",
   "id": "acc5d7dc",
   "metadata": {},
   "source": [
    "## Lab 1 - Bài 1"
   ]
  },
  {
   "cell_type": "code",
   "execution_count": null,
   "id": "001e0507",
   "metadata": {},
   "outputs": [
    {
     "name": "stdout",
     "output_type": "stream",
     "text": [
      "xin chào\n",
      "tôi tên là trần nguyễn anh tú \n",
      "tối đến từ tphcm\n",
      "quê tôi ở tp hcm\n"
     ]
    }
   ],
   "source": [
    "#thông tinh cá nhân\n",
    "print('xin chào')\n",
    "print('tôi tên là trần nguyễn anh tú ')\n",
    "print('tối đến từ tphcm')\n",
    "print('quê tôi ở tp hcm')"
   ]
  },
  {
   "cell_type": "markdown",
   "id": "c0835310",
   "metadata": {},
   "source": [
    "## Lab 1 - Bài 2"
   ]
  },
  {
   "cell_type": "code",
   "execution_count": 3,
   "id": "fa9cb39f",
   "metadata": {},
   "outputs": [
    {
     "name": "stdout",
     "output_type": "stream",
     "text": [
      "chu vi hình chữ nhật là: 28.0\n",
      "diện tích hình chữ nhật là; 40.0\n"
     ]
    }
   ],
   "source": [
    "\n",
    "chieu_dai =float(input('nhập chiều dài hình chữ nhật: '))\n",
    "chieu_rong= float(input('nhập chiều rộng hình chữ nhật: '))\n",
    "chu_vi=(chieu_dai+chieu_rong)*2\n",
    "dien_tich=(chieu_dai*chieu_rong)\n",
    "print('chu vi hình chữ nhật là:', chu_vi)\n",
    "print('diện tích hình chữ nhật là;', dien_tich)"
   ]
  },
  {
   "cell_type": "markdown",
   "id": "0f2483fe",
   "metadata": {},
   "source": [
    "## Lab 1 - Bài 3"
   ]
  },
  {
   "cell_type": "code",
   "execution_count": 1,
   "id": "7034990b",
   "metadata": {},
   "outputs": [
    {
     "name": "stdout",
     "output_type": "stream",
     "text": [
      "...\n",
      "Sống không giận, không hờn không oán trách\n",
      "Sống mỉm cười, với thử thách chông gai\n",
      "Sống vươn lên, theo kịp ánh ban mai\n",
      "Sống chan hòa, với những người chung sống.\n",
      "\n",
      "Sống là động, nhưng Lòng luôn bất động\n",
      "Sống là thương, nhưng Lòng chẳng vấn vương\n",
      "Sống yên vui, danh lợi mãi coi thường\n",
      "Tâm bất biến, giữa dòng đời vạn biến.\n",
      "...\n"
     ]
    }
   ],
   "source": [
    "tu_song='sông'\n",
    "print('...')\n",
    "print('Sống không giận, không hờn không oán trách')\n",
    "print('Sống mỉm cười, với thử thách chông gai')\n",
    "print('Sống vươn lên, theo kịp ánh ban mai')\n",
    "print('Sống chan hòa, với những người chung sống.')\n",
    "print()\n",
    "print('Sống là động, nhưng Lòng luôn bất động')\n",
    "print('Sống là thương, nhưng Lòng chẳng vấn vương')\n",
    "print('Sống yên vui, danh lợi mãi coi thường')\n",
    "print('Tâm bất biến, giữa dòng đời vạn biến.')\n",
    "print('...')"
   ]
  },
  {
   "cell_type": "markdown",
   "id": "d36ea3d3",
   "metadata": {},
   "source": [
    "## Lab 1 - Bài 4"
   ]
  },
  {
   "cell_type": "code",
   "execution_count": 5,
   "id": "4c707ec1",
   "metadata": {},
   "outputs": [
    {
     "name": "stdout",
     "output_type": "stream",
     "text": [
      "delta = -8.0\n"
     ]
    }
   ],
   "source": [
    "import math\n",
    "a=float(input('nhập số a: '))\n",
    "b=float(input('nhập số b: '))\n",
    "c=float(input('nhập số c: '))\n",
    "delta= b**2 -4*a*c\n",
    "can_bat_2_delta = math.sqrt(abs(delta))\n",
    "print('delta =', delta)"
   ]
  },
  {
   "cell_type": "markdown",
   "id": "e2b41d4a",
   "metadata": {},
   "source": [
    "## Lab 1 - Bài 5: bài tập làm thêm"
   ]
  },
  {
   "cell_type": "code",
   "execution_count": null,
   "id": "0e0172f7",
   "metadata": {},
   "outputs": [],
   "source": [
    "# code lab 1  bài làm thêm ở đây "
   ]
  }
 ],
 "metadata": {
  "kernelspec": {
   "display_name": "Python 3",
   "language": "python",
   "name": "python3"
  },
  "language_info": {
   "codemirror_mode": {
    "name": "ipython",
    "version": 3
   },
   "file_extension": ".py",
   "mimetype": "text/x-python",
   "name": "python",
   "nbconvert_exporter": "python",
   "pygments_lexer": "ipython3",
   "version": "3.13.7"
  }
 },
 "nbformat": 4,
 "nbformat_minor": 5
}
